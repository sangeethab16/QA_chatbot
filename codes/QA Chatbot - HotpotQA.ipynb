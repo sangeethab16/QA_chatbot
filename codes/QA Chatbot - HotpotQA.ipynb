{
 "cells": [
  {
   "cell_type": "code",
   "execution_count": 13,
   "metadata": {},
   "outputs": [],
   "source": [
    "import ujson as json"
   ]
  },
  {
   "cell_type": "code",
   "execution_count": 14,
   "metadata": {},
   "outputs": [],
   "source": [
    "train_filename = 'hotpot_train_v1.1.json'\n",
    "dev_distractor_filename = 'hotpot_dev_distractor_v1.json'\n",
    "dev_filename = 'hotpot_dev_fullwiki_v1.json'\n",
    "test_filename = 'hotpot_test_fullwiki_v1.json'"
   ]
  },
  {
   "cell_type": "code",
   "execution_count": 15,
   "metadata": {},
   "outputs": [],
   "source": [
    "train = json.load(open(train_filename, 'r'))\n",
    "dd = json.load(open(dev_distractor_filename, 'r'))\n",
    "dev = json.load(open(dev_filename, 'r'))\n",
    "test = json.load(open(test_filename, 'r'))"
   ]
  },
  {
   "cell_type": "code",
   "execution_count": 16,
   "metadata": {},
   "outputs": [
    {
     "data": {
      "text/plain": [
       "dict_keys(['supporting_facts', 'level', 'question', 'context', 'answer', '_id', 'type'])"
      ]
     },
     "execution_count": 16,
     "metadata": {},
     "output_type": "execute_result"
    }
   ],
   "source": [
    "train[0].keys()"
   ]
  },
  {
   "cell_type": "code",
   "execution_count": 17,
   "metadata": {},
   "outputs": [
    {
     "name": "stdout",
     "output_type": "stream",
     "text": [
      "{'bridge', 'comparison'}\n",
      "{'bridge': 72991, 'comparison': 17456}\n"
     ]
    }
   ],
   "source": [
    "qa_types = []\n",
    "for d in range(len(train)):\n",
    "    qa_types.append(train[d]['type'])\n",
    "    \n",
    "print(set(qa_types))\n",
    "print({x : qa_types.count(x) for x in set(qa_types)})"
   ]
  }
 ],
 "metadata": {
  "kernelspec": {
   "display_name": "Python 3",
   "language": "python",
   "name": "python3"
  },
  "language_info": {
   "codemirror_mode": {
    "name": "ipython",
    "version": 3
   },
   "file_extension": ".py",
   "mimetype": "text/x-python",
   "name": "python",
   "nbconvert_exporter": "python",
   "pygments_lexer": "ipython3",
   "version": "3.7.6"
  }
 },
 "nbformat": 4,
 "nbformat_minor": 4
}
